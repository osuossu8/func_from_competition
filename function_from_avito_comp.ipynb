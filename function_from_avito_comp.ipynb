{
  "nbformat": 4,
  "nbformat_minor": 0,
  "metadata": {
    "colab": {
      "name": "function_from_avito_comp.ipynb",
      "version": "0.3.2",
      "provenance": [],
      "collapsed_sections": []
    },
    "kernelspec": {
      "name": "python3",
      "display_name": "Python 3"
    },
    "accelerator": "GPU"
  },
  "cells": [
    {
      "metadata": {
        "id": "02LdNN1v3Cya",
        "colab_type": "code",
        "outputId": "aecc6676-b94c-4fd8-8501-a1dbeb7c8efe",
        "colab": {
          "base_uri": "https://localhost:8080/",
          "height": 122
        }
      },
      "cell_type": "code",
      "source": [
        "from google.colab import drive\n",
        "drive.mount('/content/drive')\n",
        "#!ls drive/My\\ Drive"
      ],
      "execution_count": 0,
      "outputs": [
        {
          "output_type": "stream",
          "text": [
            "Go to this URL in a browser: https://accounts.google.com/o/oauth2/auth?client_id=947318989803-6bn6qk8qdgf4n4g3pfee6491hc0brc4i.apps.googleusercontent.com&redirect_uri=urn%3Aietf%3Awg%3Aoauth%3A2.0%3Aoob&scope=email%20https%3A%2F%2Fwww.googleapis.com%2Fauth%2Fdocs.test%20https%3A%2F%2Fwww.googleapis.com%2Fauth%2Fdrive%20https%3A%2F%2Fwww.googleapis.com%2Fauth%2Fdrive.photos.readonly%20https%3A%2F%2Fwww.googleapis.com%2Fauth%2Fpeopleapi.readonly&response_type=code\n",
            "\n",
            "Enter your authorization code:\n",
            "··········\n",
            "Mounted at /content/drive\n"
          ],
          "name": "stdout"
        }
      ]
    },
    {
      "metadata": {
        "id": "pPpXcfFS4KHf",
        "colab_type": "text"
      },
      "cell_type": "markdown",
      "source": [
        "https://www.kaggle.com/nicapotato/bow-meta-text-and-dense-features-lgbm"
      ]
    },
    {
      "metadata": {
        "id": "5TxHn3hm4BO-",
        "colab_type": "code",
        "colab": {}
      },
      "cell_type": "code",
      "source": [
        "import numpy as np\n",
        "import pandas as pd\n",
        "from tqdm import tqdm"
      ],
      "execution_count": 0,
      "outputs": []
    },
    {
      "metadata": {
        "id": "Vvzz_rIm9CFH",
        "colab_type": "code",
        "colab": {}
      },
      "cell_type": "code",
      "source": [
        "ttl1 = \"Dozens of polar bears invade Russian town\"\n",
        "ttl2 = \"We may be able to learn vocabulary while sleeping\"\n",
        "ttl3 = \"Fortnite more popular than TV for young people\"\n",
        "ttl4 = \"Eye tests available on your smartphone\"\n",
        "ttl5 = \"Ninja to help promote tourism in Japan\"\n",
        "\n",
        "txt1 = \"Polar bears on a Russian island in the Arctic Ocean are scaring people. At least 52 bears walk around a town. The situation is serious. Bears have chased people into their homes. The town called a polar bear emergency. It said: The people are scared. They are frightened to leave homes....Parents are afraid to let their children go to school. I have been [here] since 1983, but there have never been so many polar bears.\"\n",
        "txt2 =  \"We could learn vocabulary while we are asleep. This is great news for language learners and word lovers. Researchers showed it is possible to learn new information while sleeping deeply, and recall this information later. The researchers did tests to see if a person can remember new words and their translations while they were asleep. The researchers said our sleeping brain is much more aware than we thought.\"\n",
        "txt3 = \"Young people play Fortnite more than they watch TV. The video streaming service Netflix said gaming is becoming more popular and TV is becoming less popular. Fortnite is more popular with young men. A study said that between 2015 and 2017, men aged 21 to 30 spent more time on gaming. They went from playing 2.3 hours a day to 4 hours. Their time spent watching TV, movies or streaming fell.\"\n",
        "txt4 = \"New technology could replace the optician for eye tests. A device used with a smartphone can test our eyes and tell us how bad our eyesight is. We can then order a pair of glasses online. The device is from a company called EyeQue. It has already tested 50,000 people. It says the eye test is as good as the test from an optician. The device costs just $30. A newer version will come out later this year. It will cost around $60.\"\n",
        "txt5 = \"A ninja was a spy and fighter. They first appeared in 15th-century Japan. They were skilled in killing, fighting, destroying things and spying. They helped warlords win land and power. In the 19th century, artists and writers gave ninja great abilities, like being invisible, walking on water and being able to control fire. Today we can see ninja everywhere. They are in movies, cartoons, comics, games and manga.\""
      ],
      "execution_count": 0,
      "outputs": []
    },
    {
      "metadata": {
        "id": "STnmcQlI3HND",
        "colab_type": "code",
        "outputId": "01c41726-527e-41cf-9530-64e99450bd9f",
        "colab": {
          "base_uri": "https://localhost:8080/",
          "height": 289
        }
      },
      "cell_type": "code",
      "source": [
        "train_df = pd.DataFrame({\n",
        "    \"title\" : [ttl1,ttl2,ttl3,ttl4,ttl5],\n",
        "    \"description\" : [txt1,txt2,txt3,txt4,txt5]\n",
        "})\n",
        "\n",
        "train_df.head()"
      ],
      "execution_count": 0,
      "outputs": [
        {
          "output_type": "execute_result",
          "data": {
            "text/html": [
              "<div>\n",
              "<style scoped>\n",
              "    .dataframe tbody tr th:only-of-type {\n",
              "        vertical-align: middle;\n",
              "    }\n",
              "\n",
              "    .dataframe tbody tr th {\n",
              "        vertical-align: top;\n",
              "    }\n",
              "\n",
              "    .dataframe thead th {\n",
              "        text-align: right;\n",
              "    }\n",
              "</style>\n",
              "<table border=\"1\" class=\"dataframe\">\n",
              "  <thead>\n",
              "    <tr style=\"text-align: right;\">\n",
              "      <th></th>\n",
              "      <th>description</th>\n",
              "      <th>title</th>\n",
              "    </tr>\n",
              "  </thead>\n",
              "  <tbody>\n",
              "    <tr>\n",
              "      <th>0</th>\n",
              "      <td>Polar bears on a Russian island in the Arctic ...</td>\n",
              "      <td>Dozens of polar bears invade Russian town</td>\n",
              "    </tr>\n",
              "    <tr>\n",
              "      <th>1</th>\n",
              "      <td>We could learn vocabulary while we are asleep....</td>\n",
              "      <td>We may be able to learn vocabulary while sleeping</td>\n",
              "    </tr>\n",
              "    <tr>\n",
              "      <th>2</th>\n",
              "      <td>Young people play Fortnite more than they watc...</td>\n",
              "      <td>Fortnite more popular than TV for young people</td>\n",
              "    </tr>\n",
              "    <tr>\n",
              "      <th>3</th>\n",
              "      <td>New technology could replace the optician for ...</td>\n",
              "      <td>Eye tests available on your smartphone</td>\n",
              "    </tr>\n",
              "    <tr>\n",
              "      <th>4</th>\n",
              "      <td>A ninja was a spy and fighter. They first appe...</td>\n",
              "      <td>Ninja to help promote tourism in Japan</td>\n",
              "    </tr>\n",
              "  </tbody>\n",
              "</table>\n",
              "</div>"
            ],
            "text/plain": [
              "                                         description  \\\n",
              "0  Polar bears on a Russian island in the Arctic ...   \n",
              "1  We could learn vocabulary while we are asleep....   \n",
              "2  Young people play Fortnite more than they watc...   \n",
              "3  New technology could replace the optician for ...   \n",
              "4  A ninja was a spy and fighter. They first appe...   \n",
              "\n",
              "                                               title  \n",
              "0          Dozens of polar bears invade Russian town  \n",
              "1  We may be able to learn vocabulary while sleeping  \n",
              "2     Fortnite more popular than TV for young people  \n",
              "3             Eye tests available on your smartphone  \n",
              "4             Ninja to help promote tourism in Japan  "
            ]
          },
          "metadata": {
            "tags": []
          },
          "execution_count": 4
        }
      ]
    },
    {
      "metadata": {
        "id": "WcKKSCvd3HVF",
        "colab_type": "code",
        "colab": {}
      },
      "cell_type": "code",
      "source": [
        "textfeats = [\"description\", \"title\"]\n",
        "\n",
        "def extract_feats_from_text(df):\n",
        "  \n",
        "    for cols in tqdm(textfeats):\n",
        "        df[cols] = df[cols].astype(str) \n",
        "        df[cols] = df[cols].astype(str).fillna('missing') # FILL NA\n",
        "        df[cols] = df[cols].str.lower() # Lowercase all text, so that capitalized words dont get treated differently\n",
        "        df[cols + '_num_words'] = df[cols].apply(lambda comment: len(comment.split())) # Count number of Words\n",
        "        df[cols + '_num_unique_words'] = df[cols].apply(lambda comment: len(set(w for w in comment.split())))\n",
        "        df[cols + '_words_vs_unique'] = df[cols+'_num_unique_words'] / df[cols+'_num_words'] * 100 # Count Unique Words\n",
        "    \n",
        "    return df\n"
      ],
      "execution_count": 0,
      "outputs": []
    },
    {
      "metadata": {
        "id": "_RnJJiU03HRs",
        "colab_type": "code",
        "outputId": "54b3a517-2d17-434b-a3a8-d464326a9181",
        "colab": {
          "base_uri": "https://localhost:8080/",
          "height": 683
        }
      },
      "cell_type": "code",
      "source": [
        "train_df = extract_feats_from_text(train_df)\n",
        "\n",
        "train_df.head()"
      ],
      "execution_count": 0,
      "outputs": [
        {
          "output_type": "stream",
          "text": [
            "100%|██████████| 2/2 [00:00<00:00, 141.44it/s]\n"
          ],
          "name": "stderr"
        },
        {
          "output_type": "execute_result",
          "data": {
            "text/html": [
              "<div>\n",
              "<style scoped>\n",
              "    .dataframe tbody tr th:only-of-type {\n",
              "        vertical-align: middle;\n",
              "    }\n",
              "\n",
              "    .dataframe tbody tr th {\n",
              "        vertical-align: top;\n",
              "    }\n",
              "\n",
              "    .dataframe thead th {\n",
              "        text-align: right;\n",
              "    }\n",
              "</style>\n",
              "<table border=\"1\" class=\"dataframe\">\n",
              "  <thead>\n",
              "    <tr style=\"text-align: right;\">\n",
              "      <th></th>\n",
              "      <th>description</th>\n",
              "      <th>title</th>\n",
              "      <th>description_num_words</th>\n",
              "      <th>description_num_unique_words</th>\n",
              "      <th>description_words_vs_unique</th>\n",
              "      <th>title_num_words</th>\n",
              "      <th>title_num_unique_words</th>\n",
              "      <th>title_words_vs_unique</th>\n",
              "    </tr>\n",
              "  </thead>\n",
              "  <tbody>\n",
              "    <tr>\n",
              "      <th>0</th>\n",
              "      <td>polar bears on a russian island in the arctic ...</td>\n",
              "      <td>dozens of polar bears invade russian town</td>\n",
              "      <td>75</td>\n",
              "      <td>56</td>\n",
              "      <td>74.666667</td>\n",
              "      <td>7</td>\n",
              "      <td>7</td>\n",
              "      <td>100.0</td>\n",
              "    </tr>\n",
              "    <tr>\n",
              "      <th>1</th>\n",
              "      <td>we could learn vocabulary while we are asleep....</td>\n",
              "      <td>we may be able to learn vocabulary while sleeping</td>\n",
              "      <td>68</td>\n",
              "      <td>50</td>\n",
              "      <td>73.529412</td>\n",
              "      <td>9</td>\n",
              "      <td>9</td>\n",
              "      <td>100.0</td>\n",
              "    </tr>\n",
              "    <tr>\n",
              "      <th>2</th>\n",
              "      <td>young people play fortnite more than they watc...</td>\n",
              "      <td>fortnite more popular than tv for young people</td>\n",
              "      <td>71</td>\n",
              "      <td>54</td>\n",
              "      <td>76.056338</td>\n",
              "      <td>8</td>\n",
              "      <td>8</td>\n",
              "      <td>100.0</td>\n",
              "    </tr>\n",
              "    <tr>\n",
              "      <th>3</th>\n",
              "      <td>new technology could replace the optician for ...</td>\n",
              "      <td>eye tests available on your smartphone</td>\n",
              "      <td>83</td>\n",
              "      <td>62</td>\n",
              "      <td>74.698795</td>\n",
              "      <td>6</td>\n",
              "      <td>6</td>\n",
              "      <td>100.0</td>\n",
              "    </tr>\n",
              "    <tr>\n",
              "      <th>4</th>\n",
              "      <td>a ninja was a spy and fighter. they first appe...</td>\n",
              "      <td>ninja to help promote tourism in japan</td>\n",
              "      <td>68</td>\n",
              "      <td>53</td>\n",
              "      <td>77.941176</td>\n",
              "      <td>7</td>\n",
              "      <td>7</td>\n",
              "      <td>100.0</td>\n",
              "    </tr>\n",
              "  </tbody>\n",
              "</table>\n",
              "</div>"
            ],
            "text/plain": [
              "                                         description  \\\n",
              "0  polar bears on a russian island in the arctic ...   \n",
              "1  we could learn vocabulary while we are asleep....   \n",
              "2  young people play fortnite more than they watc...   \n",
              "3  new technology could replace the optician for ...   \n",
              "4  a ninja was a spy and fighter. they first appe...   \n",
              "\n",
              "                                               title  description_num_words  \\\n",
              "0          dozens of polar bears invade russian town                     75   \n",
              "1  we may be able to learn vocabulary while sleeping                     68   \n",
              "2     fortnite more popular than tv for young people                     71   \n",
              "3             eye tests available on your smartphone                     83   \n",
              "4             ninja to help promote tourism in japan                     68   \n",
              "\n",
              "   description_num_unique_words  description_words_vs_unique  title_num_words  \\\n",
              "0                            56                    74.666667                7   \n",
              "1                            50                    73.529412                9   \n",
              "2                            54                    76.056338                8   \n",
              "3                            62                    74.698795                6   \n",
              "4                            53                    77.941176                7   \n",
              "\n",
              "   title_num_unique_words  title_words_vs_unique  \n",
              "0                       7                  100.0  \n",
              "1                       9                  100.0  \n",
              "2                       8                  100.0  \n",
              "3                       6                  100.0  \n",
              "4                       7                  100.0  "
            ]
          },
          "metadata": {
            "tags": []
          },
          "execution_count": 6
        }
      ]
    },
    {
      "metadata": {
        "id": "J_BQnDyB-zTk",
        "colab_type": "code",
        "colab": {}
      },
      "cell_type": "code",
      "source": [
        ""
      ],
      "execution_count": 0,
      "outputs": []
    }
  ]
}